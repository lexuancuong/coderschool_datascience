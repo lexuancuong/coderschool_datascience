{
 "cells": [
  {
   "cell_type": "code",
   "execution_count": null,
   "metadata": {},
   "outputs": [],
   "source": [
    "#Read two integers and print two lines. The first line should contain integer division,  // . The second line should contain float division,  / .\n",
    "from __future__ import division\n",
    "\n",
    "if __name__ == '__main__':\n",
    "    a = int(raw_input())\n",
    "    b = int(raw_input())\n",
    "    print (a//b)\n",
    "    print (a/b)\n"
   ]
  },
  {
   "cell_type": "code",
   "execution_count": null,
   "metadata": {},
   "outputs": [],
   "source": [
    "#Read an integer . For all non-negative integers , print . See the sample for details.\n",
    "\n",
    "if __name__ == '__main__':\n",
    "    n = int(raw_input())\n",
    "    for i in range(n):\n",
    "        print(i*i)\n"
   ]
  },
  {
   "cell_type": "code",
   "execution_count": null,
   "metadata": {},
   "outputs": [],
   "source": [
    "#You are given the year, and you have to write a function to check if the year is leap or not.\n",
    "def is_leap(year):\n",
    "    leap = False\n",
    "    \n",
    "    if (year % 4 == 0):\n",
    "        if (year % 4 == 0 and year % 100 != 0):\n",
    "            leap = True\n",
    "        elif year % 400 == 0:\n",
    "            leap = True\n",
    "    \n",
    "    return leap\n"
   ]
  },
  {
   "cell_type": "code",
   "execution_count": null,
   "metadata": {},
   "outputs": [],
   "source": [
    "#Read an integer .\n",
    "#Without using any string methods, try to print the following:\n",
    "#Note that \"\" represents the values in between.\n",
    "from __future__ import print_function\n",
    "\n",
    "if __name__ == '__main__':\n",
    "    n = int(raw_input())\n",
    "    for i in range(1,n+1):\n",
    "        print(i, end = '')\n"
   ]
  },
  {
   "cell_type": "code",
   "execution_count": null,
   "metadata": {},
   "outputs": [],
   "source": [
    "#Given the names and grades for each student in a Physics class of  students, \n",
    "#store them in a nested list and print the name(s) of any student(s) having the second lowest grade.\n",
    "\n",
    "#Initiate variable \n",
    "N = int(input())\n",
    "names = []\n",
    "grades = []\n",
    "\n",
    "#Get input from user\n",
    "for i in range(N):\n",
    "    tmpString = str(input())\n",
    "    tmpFloat = float(input())  \n",
    "    names.append(tmpString)\n",
    "    grades.append(tmpFloat)\n",
    "\n",
    "# I dont wanna change names and grades and I want have NL is O(n)\n",
    "# So, i do sth complex....\n",
    "# And i want to do it for a large number\n",
    "Min = grades[0]\n",
    "for i in range(N):\n",
    "    if Min >= grades[i]:\n",
    "        Min = grades[i]  #Find Min \n",
    "        \n",
    "#Find Min 2 nd in array Grades\n",
    "Min2nd = 0\n",
    "for i in range(N):\n",
    "    if (grades[i] != Min):\n",
    "        Min2nd = grades[i]\n",
    "        break\n",
    "for i in range(N):\n",
    "    if (Min2nd >= grades[i] and grades[i] != Min):\n",
    "        Min2nd = grades[i]\n",
    "\n",
    "#Find Index of elements have value equal with Min2nd that found...\n",
    "index = []\n",
    "for i in range(N):\n",
    "    if (grades[i] == Min2nd):\n",
    "        index.append(i)\n",
    "        \n",
    "#Get element of grades....\n",
    "result = []\n",
    "for i in range(len(index)):\n",
    "    result.append(names[index[i]])\n",
    "result.sort()\n",
    "for i in range(len(result)):\n",
    "    print(result[i])"
   ]
  }
 ],
 "metadata": {
  "kernelspec": {
   "display_name": "Python 3",
   "language": "python",
   "name": "python3"
  },
  "language_info": {
   "codemirror_mode": {
    "name": "ipython",
    "version": 3
   },
   "file_extension": ".py",
   "mimetype": "text/x-python",
   "name": "python",
   "nbconvert_exporter": "python",
   "pygments_lexer": "ipython3",
   "version": "3.7.3"
  }
 },
 "nbformat": 4,
 "nbformat_minor": 4
}
