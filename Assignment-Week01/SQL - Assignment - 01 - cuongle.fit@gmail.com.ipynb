{
 "cells": [
  {
   "cell_type": "code",
   "execution_count": null,
   "metadata": {},
   "outputs": [],
   "source": [
    "#Query all columns (attributes) for every row in the CITY table.\n",
    "select name from city where countrycode = 'JPN'"
   ]
  },
  {
   "cell_type": "code",
   "execution_count": null,
   "metadata": {},
   "outputs": [],
   "source": [
    "#Query all columns for a city in CITY with the ID 1661.\n",
    "select * \n",
    "from city \n",
    "where id = 1661"
   ]
  },
  {
   "cell_type": "code",
   "execution_count": null,
   "metadata": {},
   "outputs": [],
   "source": [
    "#Query all attributes of every Japanese city in the CITY table. The COUNTRYCODE for Japan is JPN.\n",
    "select * \n",
    "from city \n",
    "where countrycode = 'JPN'"
   ]
  },
  {
   "cell_type": "code",
   "execution_count": null,
   "metadata": {},
   "outputs": [],
   "source": [
    "#Query the names of all the Japanese cities in the CITY table. The COUNTRYCODE for Japan is JPN.\n",
    "select name from city where countrycode = 'JPN'"
   ]
  },
  {
   "cell_type": "code",
   "execution_count": null,
   "metadata": {},
   "outputs": [],
   "source": [
    "#Query a list of CITY and STATE from the STATION table.\n",
    "select city,state\n",
    "from station "
   ]
  },
  {
   "cell_type": "code",
   "execution_count": null,
   "metadata": {},
   "outputs": [],
   "source": [
    "#Query a list of CITY names from STATION with even ID numbers only. You may print the results in any order, but must exclude duplicates from your answer.\n",
    "select distinct city \n",
    "from station \n",
    "where id % 2 = 0"
   ]
  },
  {
   "cell_type": "code",
   "execution_count": null,
   "metadata": {},
   "outputs": [],
   "source": [
    "#Let  be the number of CITY entries in STATION, and let  be the number of distinct CITY names in STATION; query the value of  from STATION. In other words, find the difference between the total number of CITY entries in the table and the number of \n",
    "#distinct CITY entries in the table.\n",
    "select count(*) - count(distinct city)\n",
    "from station "
   ]
  },
  {
   "cell_type": "code",
   "execution_count": null,
   "metadata": {},
   "outputs": [],
   "source": [
    "#Query the list of CITY names ending with vowels (a, e, i, o, u) from STATION. Your result cannot contain duplicates.\n",
    "\n",
    "select distinct city \n",
    "from station \n",
    "where city like '%a'or city like '%u' or city like '%e' or city like '%o' or city like'%i'"
   ]
  },
  {
   "cell_type": "code",
   "execution_count": null,
   "metadata": {},
   "outputs": [],
   "source": [
    "#Query the list of CITY names from STATION which have vowels (i.e., a, e, i, o, and u) as both their first and last characters. Your result cannot contain duplicates.\n",
    "select distinct city \n",
    "from station \n",
    "where (city like '%a'or city like '%u' or city like '%e' or city like '%o' or city like'%i')\n",
    "and (city like 'a%'or city like 'u%' or city like 'e%' or city like 'o%' or city like'i%')"
   ]
  },
  {
   "cell_type": "code",
   "execution_count": null,
   "metadata": {},
   "outputs": [],
   "source": [
    "#Write a query that prints a list of employee names (i.e.: the name attribute) from the Employee table in alphabetical order.\n",
    "select name \n",
    "from employee\n",
    "order by name asc\n"
   ]
  }
 ],
 "metadata": {
  "kernelspec": {
   "display_name": "Python 3",
   "language": "python",
   "name": "python3"
  },
  "language_info": {
   "codemirror_mode": {
    "name": "ipython",
    "version": 3
   },
   "file_extension": ".py",
   "mimetype": "text/x-python",
   "name": "python",
   "nbconvert_exporter": "python",
   "pygments_lexer": "ipython3",
   "version": "3.7.3"
  }
 },
 "nbformat": 4,
 "nbformat_minor": 4
}
